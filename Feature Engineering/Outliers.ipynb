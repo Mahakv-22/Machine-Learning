{
 "cells": [
  {
   "cell_type": "markdown",
   "id": "2b13c3aa",
   "metadata": {},
   "source": [
    "Handling Outliers\n"
   ]
  },
  {
   "cell_type": "markdown",
   "id": "b88b8887",
   "metadata": {},
   "source": [
    "5 number Summary\n",
    "\n",
    "1. Minnimum Value\n",
    "2. Q1 - 25 percentile\n",
    "3. Median\n",
    "4. Q3 - 75 percentile\n",
    "5. Maximum"
   ]
  },
  {
   "cell_type": "code",
   "execution_count": 2,
   "id": "531fadbd",
   "metadata": {},
   "outputs": [],
   "source": [
    "import numpy as np\n",
    "lst_marks = [45 , 67, 89, 34, 23, 56, 89 , 90 ,78, 90, 12, 45, 1000, 1100]"
   ]
  },
  {
   "cell_type": "code",
   "execution_count": 5,
   "id": "4224ffe0",
   "metadata": {},
   "outputs": [],
   "source": [
    "# np.percentile(lst_marks, [25])  # 25th percentile \n",
    "# np.percentile(lst_marks, [50])  # 50th percentile (median)\n",
    "# np.percentile(lst_marks, [75])  # 75th percentile"
   ]
  },
  {
   "cell_type": "code",
   "execution_count": 6,
   "id": "836a0b7b",
   "metadata": {},
   "outputs": [
    {
     "name": "stdout",
     "output_type": "stream",
     "text": [
      "Q1: 45.0\n"
     ]
    }
   ],
   "source": [
    "## [lower Fence <------> upper Fence]\n",
    "q1 = np.percentile(lst_marks, 25)# 25th percentile\n",
    "print(\"Q1:\", q1)"
   ]
  },
  {
   "cell_type": "code",
   "execution_count": null,
   "id": "255bc42a",
   "metadata": {},
   "outputs": [],
   "source": [
    "minimum,  Q1 , Q2, Q3, maximum = np.quantile(lst_marks, [0, 0.25, 0.5, 0.75, 1])"
   ]
  },
  {
   "cell_type": "code",
   "execution_count": 8,
   "id": "8a5d009b",
   "metadata": {},
   "outputs": [
    {
     "data": {
      "text/plain": [
       "12.0"
      ]
     },
     "execution_count": 8,
     "metadata": {},
     "output_type": "execute_result"
    }
   ],
   "source": [
    "minimum"
   ]
  },
  {
   "cell_type": "code",
   "execution_count": 9,
   "id": "bace6eab",
   "metadata": {},
   "outputs": [
    {
     "data": {
      "text/plain": [
       "1100.0"
      ]
     },
     "execution_count": 9,
     "metadata": {},
     "output_type": "execute_result"
    }
   ],
   "source": [
    "maximum"
   ]
  },
  {
   "cell_type": "code",
   "execution_count": 11,
   "id": "8296047c",
   "metadata": {},
   "outputs": [
    {
     "name": "stdout",
     "output_type": "stream",
     "text": [
      "IQR: 44.75\n"
     ]
    }
   ],
   "source": [
    "IQR = Q3 - Q1\n",
    "print (\"IQR:\", IQR)"
   ]
  },
  {
   "cell_type": "code",
   "execution_count": 12,
   "id": "92c1cce7",
   "metadata": {},
   "outputs": [
    {
     "name": "stdout",
     "output_type": "stream",
     "text": [
      "Lower Fence: -22.125\n"
     ]
    }
   ],
   "source": [
    "lower_fence = Q1 - 1.5 * IQR\n",
    "print(\"Lower Fence:\", lower_fence)"
   ]
  },
  {
   "cell_type": "code",
   "execution_count": 13,
   "id": "dd10309c",
   "metadata": {},
   "outputs": [
    {
     "name": "stdout",
     "output_type": "stream",
     "text": [
      "Higher Fence: 156.875\n"
     ]
    }
   ],
   "source": [
    "higher_fence = Q3 + 1.5 * IQR\n",
    "print(\"Higher Fence:\", higher_fence)"
   ]
  },
  {
   "cell_type": "code",
   "execution_count": 14,
   "id": "56c3857c",
   "metadata": {},
   "outputs": [
    {
     "name": "stdout",
     "output_type": "stream",
     "text": [
      "is an outlier\n",
      "is an outlier\n",
      "is an outlier\n",
      "is an outlier\n",
      "is an outlier\n",
      "is an outlier\n",
      "is an outlier\n",
      "is an outlier\n",
      "is an outlier\n",
      "is an outlier\n",
      "is an outlier\n",
      "is an outlier\n"
     ]
    }
   ],
   "source": [
    "outliers = []\n",
    "for i in lst_marks:\n",
    "    if i >= lower_fence and i <= higher_fence:\n",
    "        print(\"is an outlier\")\n",
    "    else:\n",
    "        outliers.append(i)"
   ]
  },
  {
   "cell_type": "code",
   "execution_count": 15,
   "id": "95cb08ac",
   "metadata": {},
   "outputs": [
    {
     "data": {
      "text/plain": [
       "[1000, 1100]"
      ]
     },
     "execution_count": 15,
     "metadata": {},
     "output_type": "execute_result"
    }
   ],
   "source": [
    "outliers"
   ]
  },
  {
   "cell_type": "code",
   "execution_count": 16,
   "id": "f9a2d2d0",
   "metadata": {},
   "outputs": [],
   "source": [
    "import seaborn as sns"
   ]
  },
  {
   "cell_type": "code",
   "execution_count": 17,
   "id": "a9ff31c5",
   "metadata": {},
   "outputs": [
    {
     "data": {
      "text/plain": [
       "<Axes: >"
      ]
     },
     "execution_count": 17,
     "metadata": {},
     "output_type": "execute_result"
    },
    {
     "data": {
      "image/png": "[encoded data removed]",
      "text/plain": [
       "<Figure size 640x480 with 1 Axes>"
      ]
     },
     "metadata": {},
     "output_type": "display_data"
    }
   ],
   "source": [
    "sns.boxplot(lst_marks)"
   ]
  },
  {
   "cell_type": "code",
   "execution_count": 18,
   "id": "a851551b",
   "metadata": {},
   "outputs": [],
   "source": [
    "lst_marks = [45 , 67, 89, 34, 23, 56, 89 , 90 ,78, 90, 12, 45]"
   ]
  },
  {
   "cell_type": "code",
   "execution_count": 19,
   "id": "eb0d85a5",
   "metadata": {},
   "outputs": [
    {
     "data": {
      "text/plain": [
       "<Axes: >"
      ]
     },
     "execution_count": 19,
     "metadata": {},
     "output_type": "execute_result"
    },
    {
     "data": {
      "image/png": "[encoded data removed]",
      "text/plain": [
       "<Figure size 640x480 with 1 Axes>"
      ]
     },
     "metadata": {},
     "output_type": "display_data"
    }
   ],
   "source": [
    "sns.boxplot(lst_marks)"
   ]
  }
 ],
 "metadata": {
  "kernelspec": {
   "display_name": "base",
   "language": "python",
   "name": "python3"
  },
  "language_info": {
   "codemirror_mode": {
    "name": "ipython",
    "version": 3
   },
   "file_extension": ".py",
   "mimetype": "text/x-python",
   "name": "python",
   "nbconvert_exporter": "python",
   "pygments_lexer": "ipython3",
   "version": "3.11.3"
  }
 },
 "nbformat": 4,
 "nbformat_minor": 5
}
